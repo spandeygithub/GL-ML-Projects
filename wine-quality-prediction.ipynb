{
 "cells": [
  {
   "cell_type": "code",
   "execution_count": 1,
   "id": "82ab5f92",
   "metadata": {
    "execution": {
     "iopub.execute_input": "2023-01-20T14:46:01.930704Z",
     "iopub.status.busy": "2023-01-20T14:46:01.930146Z",
     "iopub.status.idle": "2023-01-20T14:46:01.940846Z",
     "shell.execute_reply": "2023-01-20T14:46:01.939870Z"
    },
    "id": "mZVHMkPEbTTJ",
    "papermill": {
     "duration": 0.023315,
     "end_time": "2023-01-20T14:46:01.943321",
     "exception": false,
     "start_time": "2023-01-20T14:46:01.920006",
     "status": "completed"
    },
    "tags": []
   },
   "outputs": [],
   "source": [
    "import numpy as np\n",
    "import pandas as pd\n",
    "import matplotlib.pyplot as plt"
   ]
  },
  {
   "cell_type": "code",
   "execution_count": 2,
   "id": "d8bd8cb3",
   "metadata": {
    "execution": {
     "iopub.execute_input": "2023-01-20T14:46:01.959891Z",
     "iopub.status.busy": "2023-01-20T14:46:01.959314Z",
     "iopub.status.idle": "2023-01-20T14:46:02.035517Z",
     "shell.execute_reply": "2023-01-20T14:46:02.034082Z"
    },
    "id": "IRLLQswzbgHs",
    "outputId": "8fa8d3e8-a3cf-4b8f-a1a1-9e9fdb6d94eb",
    "papermill": {
     "duration": 0.087346,
     "end_time": "2023-01-20T14:46:02.038065",
     "exception": false,
     "start_time": "2023-01-20T14:46:01.950719",
     "status": "completed"
    },
    "tags": []
   },
   "outputs": [
    {
     "data": {
      "text/html": [
       "<div>\n",
       "<style scoped>\n",
       "    .dataframe tbody tr th:only-of-type {\n",
       "        vertical-align: middle;\n",
       "    }\n",
       "\n",
       "    .dataframe tbody tr th {\n",
       "        vertical-align: top;\n",
       "    }\n",
       "\n",
       "    .dataframe thead th {\n",
       "        text-align: right;\n",
       "    }\n",
       "</style>\n",
       "<table border=\"1\" class=\"dataframe\">\n",
       "  <thead>\n",
       "    <tr style=\"text-align: right;\">\n",
       "      <th></th>\n",
       "      <th>fixed acidity</th>\n",
       "      <th>volatile acidity</th>\n",
       "      <th>citric acid</th>\n",
       "      <th>residual sugar</th>\n",
       "      <th>chlorides</th>\n",
       "      <th>free sulfur dioxide</th>\n",
       "      <th>total sulfur dioxide</th>\n",
       "      <th>density</th>\n",
       "      <th>pH</th>\n",
       "      <th>sulphates</th>\n",
       "      <th>alcohol</th>\n",
       "      <th>quality</th>\n",
       "    </tr>\n",
       "  </thead>\n",
       "  <tbody>\n",
       "    <tr>\n",
       "      <th>0</th>\n",
       "      <td>7.4</td>\n",
       "      <td>0.70</td>\n",
       "      <td>0.00</td>\n",
       "      <td>1.9</td>\n",
       "      <td>0.076</td>\n",
       "      <td>11.0</td>\n",
       "      <td>34.0</td>\n",
       "      <td>0.9978</td>\n",
       "      <td>3.51</td>\n",
       "      <td>0.56</td>\n",
       "      <td>9.4</td>\n",
       "      <td>5</td>\n",
       "    </tr>\n",
       "    <tr>\n",
       "      <th>1</th>\n",
       "      <td>7.8</td>\n",
       "      <td>0.88</td>\n",
       "      <td>0.00</td>\n",
       "      <td>2.6</td>\n",
       "      <td>0.098</td>\n",
       "      <td>25.0</td>\n",
       "      <td>67.0</td>\n",
       "      <td>0.9968</td>\n",
       "      <td>3.20</td>\n",
       "      <td>0.68</td>\n",
       "      <td>9.8</td>\n",
       "      <td>5</td>\n",
       "    </tr>\n",
       "    <tr>\n",
       "      <th>2</th>\n",
       "      <td>7.8</td>\n",
       "      <td>0.76</td>\n",
       "      <td>0.04</td>\n",
       "      <td>2.3</td>\n",
       "      <td>0.092</td>\n",
       "      <td>15.0</td>\n",
       "      <td>54.0</td>\n",
       "      <td>0.9970</td>\n",
       "      <td>3.26</td>\n",
       "      <td>0.65</td>\n",
       "      <td>9.8</td>\n",
       "      <td>5</td>\n",
       "    </tr>\n",
       "    <tr>\n",
       "      <th>3</th>\n",
       "      <td>11.2</td>\n",
       "      <td>0.28</td>\n",
       "      <td>0.56</td>\n",
       "      <td>1.9</td>\n",
       "      <td>0.075</td>\n",
       "      <td>17.0</td>\n",
       "      <td>60.0</td>\n",
       "      <td>0.9980</td>\n",
       "      <td>3.16</td>\n",
       "      <td>0.58</td>\n",
       "      <td>9.8</td>\n",
       "      <td>6</td>\n",
       "    </tr>\n",
       "    <tr>\n",
       "      <th>4</th>\n",
       "      <td>7.4</td>\n",
       "      <td>0.70</td>\n",
       "      <td>0.00</td>\n",
       "      <td>1.9</td>\n",
       "      <td>0.076</td>\n",
       "      <td>11.0</td>\n",
       "      <td>34.0</td>\n",
       "      <td>0.9978</td>\n",
       "      <td>3.51</td>\n",
       "      <td>0.56</td>\n",
       "      <td>9.4</td>\n",
       "      <td>5</td>\n",
       "    </tr>\n",
       "  </tbody>\n",
       "</table>\n",
       "</div>"
      ],
      "text/plain": [
       "   fixed acidity  volatile acidity  citric acid  residual sugar  chlorides  \\\n",
       "0            7.4              0.70         0.00             1.9      0.076   \n",
       "1            7.8              0.88         0.00             2.6      0.098   \n",
       "2            7.8              0.76         0.04             2.3      0.092   \n",
       "3           11.2              0.28         0.56             1.9      0.075   \n",
       "4            7.4              0.70         0.00             1.9      0.076   \n",
       "\n",
       "   free sulfur dioxide  total sulfur dioxide  density    pH  sulphates  \\\n",
       "0                 11.0                  34.0   0.9978  3.51       0.56   \n",
       "1                 25.0                  67.0   0.9968  3.20       0.68   \n",
       "2                 15.0                  54.0   0.9970  3.26       0.65   \n",
       "3                 17.0                  60.0   0.9980  3.16       0.58   \n",
       "4                 11.0                  34.0   0.9978  3.51       0.56   \n",
       "\n",
       "   alcohol  quality  \n",
       "0      9.4        5  \n",
       "1      9.8        5  \n",
       "2      9.8        5  \n",
       "3      9.8        6  \n",
       "4      9.4        5  "
      ]
     },
     "execution_count": 2,
     "metadata": {},
     "output_type": "execute_result"
    }
   ],
   "source": [
    "df=pd.read_csv(\"/kaggle/input/red-wine-quality-cortez-et-al-2009/winequality-red.csv\")\n",
    "df.head()"
   ]
  },
  {
   "cell_type": "code",
   "execution_count": 3,
   "id": "0777b301",
   "metadata": {
    "execution": {
     "iopub.execute_input": "2023-01-20T14:46:02.055082Z",
     "iopub.status.busy": "2023-01-20T14:46:02.054662Z",
     "iopub.status.idle": "2023-01-20T14:46:02.063931Z",
     "shell.execute_reply": "2023-01-20T14:46:02.062805Z"
    },
    "id": "33lsWcp7pk7-",
    "papermill": {
     "duration": 0.020182,
     "end_time": "2023-01-20T14:46:02.065969",
     "exception": false,
     "start_time": "2023-01-20T14:46:02.045787",
     "status": "completed"
    },
    "tags": []
   },
   "outputs": [],
   "source": [
    "df.rename(columns={'fixed acidity': 'fixed_acidity', 'volatile acidity': 'volatile_acidity','citric acid':'citric_acid','residual sugar':'residual_sugar','free sulfur dioxide':'free_sulfur_dioxide','total sulfur dioxide':'total_sulfur_dioxide'}, inplace=True)"
   ]
  },
  {
   "cell_type": "code",
   "execution_count": 4,
   "id": "2f32f0cd",
   "metadata": {
    "execution": {
     "iopub.execute_input": "2023-01-20T14:46:02.083206Z",
     "iopub.status.busy": "2023-01-20T14:46:02.082795Z",
     "iopub.status.idle": "2023-01-20T14:46:02.111481Z",
     "shell.execute_reply": "2023-01-20T14:46:02.109634Z"
    },
    "id": "O0_PAPWxb_0i",
    "papermill": {
     "duration": 0.040594,
     "end_time": "2023-01-20T14:46:02.114212",
     "exception": false,
     "start_time": "2023-01-20T14:46:02.073618",
     "status": "completed"
    },
    "tags": []
   },
   "outputs": [
    {
     "name": "stdout",
     "output_type": "stream",
     "text": [
      "<class 'pandas.core.frame.DataFrame'>\n",
      "RangeIndex: 1599 entries, 0 to 1598\n",
      "Data columns (total 12 columns):\n",
      " #   Column                Non-Null Count  Dtype  \n",
      "---  ------                --------------  -----  \n",
      " 0   fixed_acidity         1599 non-null   float64\n",
      " 1   volatile_acidity      1599 non-null   float64\n",
      " 2   citric_acid           1599 non-null   float64\n",
      " 3   residual_sugar        1599 non-null   float64\n",
      " 4   chlorides             1599 non-null   float64\n",
      " 5   free_sulfur_dioxide   1599 non-null   float64\n",
      " 6   total_sulfur_dioxide  1599 non-null   float64\n",
      " 7   density               1599 non-null   float64\n",
      " 8   pH                    1599 non-null   float64\n",
      " 9   sulphates             1599 non-null   float64\n",
      " 10  alcohol               1599 non-null   float64\n",
      " 11  quality               1599 non-null   int64  \n",
      "dtypes: float64(11), int64(1)\n",
      "memory usage: 150.0 KB\n"
     ]
    }
   ],
   "source": [
    "df.info()"
   ]
  },
  {
   "cell_type": "code",
   "execution_count": 5,
   "id": "d5a6cc7a",
   "metadata": {
    "execution": {
     "iopub.execute_input": "2023-01-20T14:46:02.132428Z",
     "iopub.status.busy": "2023-01-20T14:46:02.132017Z",
     "iopub.status.idle": "2023-01-20T14:46:02.142886Z",
     "shell.execute_reply": "2023-01-20T14:46:02.141043Z"
    },
    "id": "lpjAz7QyfoNr",
    "papermill": {
     "duration": 0.021833,
     "end_time": "2023-01-20T14:46:02.145291",
     "exception": false,
     "start_time": "2023-01-20T14:46:02.123458",
     "status": "completed"
    },
    "tags": []
   },
   "outputs": [
    {
     "data": {
      "text/plain": [
       "fixed_acidity           0\n",
       "volatile_acidity        0\n",
       "citric_acid             0\n",
       "residual_sugar          0\n",
       "chlorides               0\n",
       "free_sulfur_dioxide     0\n",
       "total_sulfur_dioxide    0\n",
       "density                 0\n",
       "pH                      0\n",
       "sulphates               0\n",
       "alcohol                 0\n",
       "quality                 0\n",
       "dtype: int64"
      ]
     },
     "execution_count": 5,
     "metadata": {},
     "output_type": "execute_result"
    }
   ],
   "source": [
    "df.isnull().sum()"
   ]
  },
  {
   "cell_type": "code",
   "execution_count": 6,
   "id": "02369343",
   "metadata": {
    "execution": {
     "iopub.execute_input": "2023-01-20T14:46:02.162697Z",
     "iopub.status.busy": "2023-01-20T14:46:02.162359Z",
     "iopub.status.idle": "2023-01-20T14:46:02.183603Z",
     "shell.execute_reply": "2023-01-20T14:46:02.182328Z"
    },
    "id": "hz2oB38ecKUv",
    "papermill": {
     "duration": 0.032496,
     "end_time": "2023-01-20T14:46:02.185592",
     "exception": false,
     "start_time": "2023-01-20T14:46:02.153096",
     "status": "completed"
    },
    "tags": []
   },
   "outputs": [
    {
     "data": {
      "text/html": [
       "<div>\n",
       "<style scoped>\n",
       "    .dataframe tbody tr th:only-of-type {\n",
       "        vertical-align: middle;\n",
       "    }\n",
       "\n",
       "    .dataframe tbody tr th {\n",
       "        vertical-align: top;\n",
       "    }\n",
       "\n",
       "    .dataframe thead th {\n",
       "        text-align: right;\n",
       "    }\n",
       "</style>\n",
       "<table border=\"1\" class=\"dataframe\">\n",
       "  <thead>\n",
       "    <tr style=\"text-align: right;\">\n",
       "      <th></th>\n",
       "      <th>fixed_acidity</th>\n",
       "      <th>volatile_acidity</th>\n",
       "      <th>citric_acid</th>\n",
       "      <th>residual_sugar</th>\n",
       "      <th>chlorides</th>\n",
       "      <th>free_sulfur_dioxide</th>\n",
       "      <th>total_sulfur_dioxide</th>\n",
       "      <th>density</th>\n",
       "      <th>pH</th>\n",
       "      <th>sulphates</th>\n",
       "      <th>alcohol</th>\n",
       "      <th>quality</th>\n",
       "    </tr>\n",
       "  </thead>\n",
       "  <tbody>\n",
       "    <tr>\n",
       "      <th>fixed_acidity</th>\n",
       "      <td>1.000000</td>\n",
       "      <td>-0.256131</td>\n",
       "      <td>0.671703</td>\n",
       "      <td>0.114777</td>\n",
       "      <td>0.093705</td>\n",
       "      <td>-0.153794</td>\n",
       "      <td>-0.113181</td>\n",
       "      <td>0.668047</td>\n",
       "      <td>-0.682978</td>\n",
       "      <td>0.183006</td>\n",
       "      <td>-0.061668</td>\n",
       "      <td>0.124052</td>\n",
       "    </tr>\n",
       "    <tr>\n",
       "      <th>volatile_acidity</th>\n",
       "      <td>-0.256131</td>\n",
       "      <td>1.000000</td>\n",
       "      <td>-0.552496</td>\n",
       "      <td>0.001918</td>\n",
       "      <td>0.061298</td>\n",
       "      <td>-0.010504</td>\n",
       "      <td>0.076470</td>\n",
       "      <td>0.022026</td>\n",
       "      <td>0.234937</td>\n",
       "      <td>-0.260987</td>\n",
       "      <td>-0.202288</td>\n",
       "      <td>-0.390558</td>\n",
       "    </tr>\n",
       "    <tr>\n",
       "      <th>citric_acid</th>\n",
       "      <td>0.671703</td>\n",
       "      <td>-0.552496</td>\n",
       "      <td>1.000000</td>\n",
       "      <td>0.143577</td>\n",
       "      <td>0.203823</td>\n",
       "      <td>-0.060978</td>\n",
       "      <td>0.035533</td>\n",
       "      <td>0.364947</td>\n",
       "      <td>-0.541904</td>\n",
       "      <td>0.312770</td>\n",
       "      <td>0.109903</td>\n",
       "      <td>0.226373</td>\n",
       "    </tr>\n",
       "    <tr>\n",
       "      <th>residual_sugar</th>\n",
       "      <td>0.114777</td>\n",
       "      <td>0.001918</td>\n",
       "      <td>0.143577</td>\n",
       "      <td>1.000000</td>\n",
       "      <td>0.055610</td>\n",
       "      <td>0.187049</td>\n",
       "      <td>0.203028</td>\n",
       "      <td>0.355283</td>\n",
       "      <td>-0.085652</td>\n",
       "      <td>0.005527</td>\n",
       "      <td>0.042075</td>\n",
       "      <td>0.013732</td>\n",
       "    </tr>\n",
       "    <tr>\n",
       "      <th>chlorides</th>\n",
       "      <td>0.093705</td>\n",
       "      <td>0.061298</td>\n",
       "      <td>0.203823</td>\n",
       "      <td>0.055610</td>\n",
       "      <td>1.000000</td>\n",
       "      <td>0.005562</td>\n",
       "      <td>0.047400</td>\n",
       "      <td>0.200632</td>\n",
       "      <td>-0.265026</td>\n",
       "      <td>0.371260</td>\n",
       "      <td>-0.221141</td>\n",
       "      <td>-0.128907</td>\n",
       "    </tr>\n",
       "    <tr>\n",
       "      <th>free_sulfur_dioxide</th>\n",
       "      <td>-0.153794</td>\n",
       "      <td>-0.010504</td>\n",
       "      <td>-0.060978</td>\n",
       "      <td>0.187049</td>\n",
       "      <td>0.005562</td>\n",
       "      <td>1.000000</td>\n",
       "      <td>0.667666</td>\n",
       "      <td>-0.021946</td>\n",
       "      <td>0.070377</td>\n",
       "      <td>0.051658</td>\n",
       "      <td>-0.069408</td>\n",
       "      <td>-0.050656</td>\n",
       "    </tr>\n",
       "    <tr>\n",
       "      <th>total_sulfur_dioxide</th>\n",
       "      <td>-0.113181</td>\n",
       "      <td>0.076470</td>\n",
       "      <td>0.035533</td>\n",
       "      <td>0.203028</td>\n",
       "      <td>0.047400</td>\n",
       "      <td>0.667666</td>\n",
       "      <td>1.000000</td>\n",
       "      <td>0.071269</td>\n",
       "      <td>-0.066495</td>\n",
       "      <td>0.042947</td>\n",
       "      <td>-0.205654</td>\n",
       "      <td>-0.185100</td>\n",
       "    </tr>\n",
       "    <tr>\n",
       "      <th>density</th>\n",
       "      <td>0.668047</td>\n",
       "      <td>0.022026</td>\n",
       "      <td>0.364947</td>\n",
       "      <td>0.355283</td>\n",
       "      <td>0.200632</td>\n",
       "      <td>-0.021946</td>\n",
       "      <td>0.071269</td>\n",
       "      <td>1.000000</td>\n",
       "      <td>-0.341699</td>\n",
       "      <td>0.148506</td>\n",
       "      <td>-0.496180</td>\n",
       "      <td>-0.174919</td>\n",
       "    </tr>\n",
       "    <tr>\n",
       "      <th>pH</th>\n",
       "      <td>-0.682978</td>\n",
       "      <td>0.234937</td>\n",
       "      <td>-0.541904</td>\n",
       "      <td>-0.085652</td>\n",
       "      <td>-0.265026</td>\n",
       "      <td>0.070377</td>\n",
       "      <td>-0.066495</td>\n",
       "      <td>-0.341699</td>\n",
       "      <td>1.000000</td>\n",
       "      <td>-0.196648</td>\n",
       "      <td>0.205633</td>\n",
       "      <td>-0.057731</td>\n",
       "    </tr>\n",
       "    <tr>\n",
       "      <th>sulphates</th>\n",
       "      <td>0.183006</td>\n",
       "      <td>-0.260987</td>\n",
       "      <td>0.312770</td>\n",
       "      <td>0.005527</td>\n",
       "      <td>0.371260</td>\n",
       "      <td>0.051658</td>\n",
       "      <td>0.042947</td>\n",
       "      <td>0.148506</td>\n",
       "      <td>-0.196648</td>\n",
       "      <td>1.000000</td>\n",
       "      <td>0.093595</td>\n",
       "      <td>0.251397</td>\n",
       "    </tr>\n",
       "    <tr>\n",
       "      <th>alcohol</th>\n",
       "      <td>-0.061668</td>\n",
       "      <td>-0.202288</td>\n",
       "      <td>0.109903</td>\n",
       "      <td>0.042075</td>\n",
       "      <td>-0.221141</td>\n",
       "      <td>-0.069408</td>\n",
       "      <td>-0.205654</td>\n",
       "      <td>-0.496180</td>\n",
       "      <td>0.205633</td>\n",
       "      <td>0.093595</td>\n",
       "      <td>1.000000</td>\n",
       "      <td>0.476166</td>\n",
       "    </tr>\n",
       "    <tr>\n",
       "      <th>quality</th>\n",
       "      <td>0.124052</td>\n",
       "      <td>-0.390558</td>\n",
       "      <td>0.226373</td>\n",
       "      <td>0.013732</td>\n",
       "      <td>-0.128907</td>\n",
       "      <td>-0.050656</td>\n",
       "      <td>-0.185100</td>\n",
       "      <td>-0.174919</td>\n",
       "      <td>-0.057731</td>\n",
       "      <td>0.251397</td>\n",
       "      <td>0.476166</td>\n",
       "      <td>1.000000</td>\n",
       "    </tr>\n",
       "  </tbody>\n",
       "</table>\n",
       "</div>"
      ],
      "text/plain": [
       "                      fixed_acidity  volatile_acidity  citric_acid  \\\n",
       "fixed_acidity              1.000000         -0.256131     0.671703   \n",
       "volatile_acidity          -0.256131          1.000000    -0.552496   \n",
       "citric_acid                0.671703         -0.552496     1.000000   \n",
       "residual_sugar             0.114777          0.001918     0.143577   \n",
       "chlorides                  0.093705          0.061298     0.203823   \n",
       "free_sulfur_dioxide       -0.153794         -0.010504    -0.060978   \n",
       "total_sulfur_dioxide      -0.113181          0.076470     0.035533   \n",
       "density                    0.668047          0.022026     0.364947   \n",
       "pH                        -0.682978          0.234937    -0.541904   \n",
       "sulphates                  0.183006         -0.260987     0.312770   \n",
       "alcohol                   -0.061668         -0.202288     0.109903   \n",
       "quality                    0.124052         -0.390558     0.226373   \n",
       "\n",
       "                      residual_sugar  chlorides  free_sulfur_dioxide  \\\n",
       "fixed_acidity               0.114777   0.093705            -0.153794   \n",
       "volatile_acidity            0.001918   0.061298            -0.010504   \n",
       "citric_acid                 0.143577   0.203823            -0.060978   \n",
       "residual_sugar              1.000000   0.055610             0.187049   \n",
       "chlorides                   0.055610   1.000000             0.005562   \n",
       "free_sulfur_dioxide         0.187049   0.005562             1.000000   \n",
       "total_sulfur_dioxide        0.203028   0.047400             0.667666   \n",
       "density                     0.355283   0.200632            -0.021946   \n",
       "pH                         -0.085652  -0.265026             0.070377   \n",
       "sulphates                   0.005527   0.371260             0.051658   \n",
       "alcohol                     0.042075  -0.221141            -0.069408   \n",
       "quality                     0.013732  -0.128907            -0.050656   \n",
       "\n",
       "                      total_sulfur_dioxide   density        pH  sulphates  \\\n",
       "fixed_acidity                    -0.113181  0.668047 -0.682978   0.183006   \n",
       "volatile_acidity                  0.076470  0.022026  0.234937  -0.260987   \n",
       "citric_acid                       0.035533  0.364947 -0.541904   0.312770   \n",
       "residual_sugar                    0.203028  0.355283 -0.085652   0.005527   \n",
       "chlorides                         0.047400  0.200632 -0.265026   0.371260   \n",
       "free_sulfur_dioxide               0.667666 -0.021946  0.070377   0.051658   \n",
       "total_sulfur_dioxide              1.000000  0.071269 -0.066495   0.042947   \n",
       "density                           0.071269  1.000000 -0.341699   0.148506   \n",
       "pH                               -0.066495 -0.341699  1.000000  -0.196648   \n",
       "sulphates                         0.042947  0.148506 -0.196648   1.000000   \n",
       "alcohol                          -0.205654 -0.496180  0.205633   0.093595   \n",
       "quality                          -0.185100 -0.174919 -0.057731   0.251397   \n",
       "\n",
       "                       alcohol   quality  \n",
       "fixed_acidity        -0.061668  0.124052  \n",
       "volatile_acidity     -0.202288 -0.390558  \n",
       "citric_acid           0.109903  0.226373  \n",
       "residual_sugar        0.042075  0.013732  \n",
       "chlorides            -0.221141 -0.128907  \n",
       "free_sulfur_dioxide  -0.069408 -0.050656  \n",
       "total_sulfur_dioxide -0.205654 -0.185100  \n",
       "density              -0.496180 -0.174919  \n",
       "pH                    0.205633 -0.057731  \n",
       "sulphates             0.093595  0.251397  \n",
       "alcohol               1.000000  0.476166  \n",
       "quality               0.476166  1.000000  "
      ]
     },
     "execution_count": 6,
     "metadata": {},
     "output_type": "execute_result"
    }
   ],
   "source": [
    "df.corr()"
   ]
  },
  {
   "cell_type": "code",
   "execution_count": 7,
   "id": "def18099",
   "metadata": {
    "execution": {
     "iopub.execute_input": "2023-01-20T14:46:02.203046Z",
     "iopub.status.busy": "2023-01-20T14:46:02.202659Z",
     "iopub.status.idle": "2023-01-20T14:46:02.210080Z",
     "shell.execute_reply": "2023-01-20T14:46:02.208974Z"
    },
    "id": "UZawTrvfcU0W",
    "papermill": {
     "duration": 0.018444,
     "end_time": "2023-01-20T14:46:02.212027",
     "exception": false,
     "start_time": "2023-01-20T14:46:02.193583",
     "status": "completed"
    },
    "tags": []
   },
   "outputs": [],
   "source": [
    "df.drop(['residual_sugar','free_sulfur_dioxide','pH'],axis=1,inplace=True)"
   ]
  },
  {
   "cell_type": "code",
   "execution_count": 8,
   "id": "4ca7098d",
   "metadata": {
    "execution": {
     "iopub.execute_input": "2023-01-20T14:46:02.229522Z",
     "iopub.status.busy": "2023-01-20T14:46:02.229150Z",
     "iopub.status.idle": "2023-01-20T14:46:02.249254Z",
     "shell.execute_reply": "2023-01-20T14:46:02.247415Z"
    },
    "id": "pfEhVcYpgpOW",
    "papermill": {
     "duration": 0.032502,
     "end_time": "2023-01-20T14:46:02.252477",
     "exception": false,
     "start_time": "2023-01-20T14:46:02.219975",
     "status": "completed"
    },
    "tags": []
   },
   "outputs": [
    {
     "data": {
      "text/html": [
       "<div>\n",
       "<style scoped>\n",
       "    .dataframe tbody tr th:only-of-type {\n",
       "        vertical-align: middle;\n",
       "    }\n",
       "\n",
       "    .dataframe tbody tr th {\n",
       "        vertical-align: top;\n",
       "    }\n",
       "\n",
       "    .dataframe thead th {\n",
       "        text-align: right;\n",
       "    }\n",
       "</style>\n",
       "<table border=\"1\" class=\"dataframe\">\n",
       "  <thead>\n",
       "    <tr style=\"text-align: right;\">\n",
       "      <th></th>\n",
       "      <th>fixed_acidity</th>\n",
       "      <th>volatile_acidity</th>\n",
       "      <th>citric_acid</th>\n",
       "      <th>chlorides</th>\n",
       "      <th>total_sulfur_dioxide</th>\n",
       "      <th>density</th>\n",
       "      <th>sulphates</th>\n",
       "      <th>alcohol</th>\n",
       "      <th>quality</th>\n",
       "    </tr>\n",
       "  </thead>\n",
       "  <tbody>\n",
       "    <tr>\n",
       "      <th>0</th>\n",
       "      <td>7.4</td>\n",
       "      <td>0.700</td>\n",
       "      <td>0.00</td>\n",
       "      <td>0.076</td>\n",
       "      <td>34.0</td>\n",
       "      <td>0.99780</td>\n",
       "      <td>0.56</td>\n",
       "      <td>9.4</td>\n",
       "      <td>5</td>\n",
       "    </tr>\n",
       "    <tr>\n",
       "      <th>1</th>\n",
       "      <td>7.8</td>\n",
       "      <td>0.880</td>\n",
       "      <td>0.00</td>\n",
       "      <td>0.098</td>\n",
       "      <td>67.0</td>\n",
       "      <td>0.99680</td>\n",
       "      <td>0.68</td>\n",
       "      <td>9.8</td>\n",
       "      <td>5</td>\n",
       "    </tr>\n",
       "    <tr>\n",
       "      <th>2</th>\n",
       "      <td>7.8</td>\n",
       "      <td>0.760</td>\n",
       "      <td>0.04</td>\n",
       "      <td>0.092</td>\n",
       "      <td>54.0</td>\n",
       "      <td>0.99700</td>\n",
       "      <td>0.65</td>\n",
       "      <td>9.8</td>\n",
       "      <td>5</td>\n",
       "    </tr>\n",
       "    <tr>\n",
       "      <th>3</th>\n",
       "      <td>11.2</td>\n",
       "      <td>0.280</td>\n",
       "      <td>0.56</td>\n",
       "      <td>0.075</td>\n",
       "      <td>60.0</td>\n",
       "      <td>0.99800</td>\n",
       "      <td>0.58</td>\n",
       "      <td>9.8</td>\n",
       "      <td>6</td>\n",
       "    </tr>\n",
       "    <tr>\n",
       "      <th>4</th>\n",
       "      <td>7.4</td>\n",
       "      <td>0.700</td>\n",
       "      <td>0.00</td>\n",
       "      <td>0.076</td>\n",
       "      <td>34.0</td>\n",
       "      <td>0.99780</td>\n",
       "      <td>0.56</td>\n",
       "      <td>9.4</td>\n",
       "      <td>5</td>\n",
       "    </tr>\n",
       "    <tr>\n",
       "      <th>...</th>\n",
       "      <td>...</td>\n",
       "      <td>...</td>\n",
       "      <td>...</td>\n",
       "      <td>...</td>\n",
       "      <td>...</td>\n",
       "      <td>...</td>\n",
       "      <td>...</td>\n",
       "      <td>...</td>\n",
       "      <td>...</td>\n",
       "    </tr>\n",
       "    <tr>\n",
       "      <th>1594</th>\n",
       "      <td>6.2</td>\n",
       "      <td>0.600</td>\n",
       "      <td>0.08</td>\n",
       "      <td>0.090</td>\n",
       "      <td>44.0</td>\n",
       "      <td>0.99490</td>\n",
       "      <td>0.58</td>\n",
       "      <td>10.5</td>\n",
       "      <td>5</td>\n",
       "    </tr>\n",
       "    <tr>\n",
       "      <th>1595</th>\n",
       "      <td>5.9</td>\n",
       "      <td>0.550</td>\n",
       "      <td>0.10</td>\n",
       "      <td>0.062</td>\n",
       "      <td>51.0</td>\n",
       "      <td>0.99512</td>\n",
       "      <td>0.76</td>\n",
       "      <td>11.2</td>\n",
       "      <td>6</td>\n",
       "    </tr>\n",
       "    <tr>\n",
       "      <th>1596</th>\n",
       "      <td>6.3</td>\n",
       "      <td>0.510</td>\n",
       "      <td>0.13</td>\n",
       "      <td>0.076</td>\n",
       "      <td>40.0</td>\n",
       "      <td>0.99574</td>\n",
       "      <td>0.75</td>\n",
       "      <td>11.0</td>\n",
       "      <td>6</td>\n",
       "    </tr>\n",
       "    <tr>\n",
       "      <th>1597</th>\n",
       "      <td>5.9</td>\n",
       "      <td>0.645</td>\n",
       "      <td>0.12</td>\n",
       "      <td>0.075</td>\n",
       "      <td>44.0</td>\n",
       "      <td>0.99547</td>\n",
       "      <td>0.71</td>\n",
       "      <td>10.2</td>\n",
       "      <td>5</td>\n",
       "    </tr>\n",
       "    <tr>\n",
       "      <th>1598</th>\n",
       "      <td>6.0</td>\n",
       "      <td>0.310</td>\n",
       "      <td>0.47</td>\n",
       "      <td>0.067</td>\n",
       "      <td>42.0</td>\n",
       "      <td>0.99549</td>\n",
       "      <td>0.66</td>\n",
       "      <td>11.0</td>\n",
       "      <td>6</td>\n",
       "    </tr>\n",
       "  </tbody>\n",
       "</table>\n",
       "<p>1599 rows × 9 columns</p>\n",
       "</div>"
      ],
      "text/plain": [
       "      fixed_acidity  volatile_acidity  citric_acid  chlorides  \\\n",
       "0               7.4             0.700         0.00      0.076   \n",
       "1               7.8             0.880         0.00      0.098   \n",
       "2               7.8             0.760         0.04      0.092   \n",
       "3              11.2             0.280         0.56      0.075   \n",
       "4               7.4             0.700         0.00      0.076   \n",
       "...             ...               ...          ...        ...   \n",
       "1594            6.2             0.600         0.08      0.090   \n",
       "1595            5.9             0.550         0.10      0.062   \n",
       "1596            6.3             0.510         0.13      0.076   \n",
       "1597            5.9             0.645         0.12      0.075   \n",
       "1598            6.0             0.310         0.47      0.067   \n",
       "\n",
       "      total_sulfur_dioxide  density  sulphates  alcohol  quality  \n",
       "0                     34.0  0.99780       0.56      9.4        5  \n",
       "1                     67.0  0.99680       0.68      9.8        5  \n",
       "2                     54.0  0.99700       0.65      9.8        5  \n",
       "3                     60.0  0.99800       0.58      9.8        6  \n",
       "4                     34.0  0.99780       0.56      9.4        5  \n",
       "...                    ...      ...        ...      ...      ...  \n",
       "1594                  44.0  0.99490       0.58     10.5        5  \n",
       "1595                  51.0  0.99512       0.76     11.2        6  \n",
       "1596                  40.0  0.99574       0.75     11.0        6  \n",
       "1597                  44.0  0.99547       0.71     10.2        5  \n",
       "1598                  42.0  0.99549       0.66     11.0        6  \n",
       "\n",
       "[1599 rows x 9 columns]"
      ]
     },
     "execution_count": 8,
     "metadata": {},
     "output_type": "execute_result"
    }
   ],
   "source": [
    "df"
   ]
  },
  {
   "cell_type": "code",
   "execution_count": 9,
   "id": "370c1034",
   "metadata": {
    "execution": {
     "iopub.execute_input": "2023-01-20T14:46:02.271329Z",
     "iopub.status.busy": "2023-01-20T14:46:02.270922Z",
     "iopub.status.idle": "2023-01-20T14:46:02.279941Z",
     "shell.execute_reply": "2023-01-20T14:46:02.279005Z"
    },
    "id": "8YVLZKdIgxWS",
    "papermill": {
     "duration": 0.020485,
     "end_time": "2023-01-20T14:46:02.281777",
     "exception": false,
     "start_time": "2023-01-20T14:46:02.261292",
     "status": "completed"
    },
    "tags": []
   },
   "outputs": [
    {
     "data": {
      "text/plain": [
       "fixed_acidity           0.982751\n",
       "volatile_acidity        0.671593\n",
       "citric_acid             0.318337\n",
       "chlorides               5.680347\n",
       "total_sulfur_dioxide    1.515531\n",
       "density                 0.071288\n",
       "sulphates               2.428672\n",
       "alcohol                 0.860829\n",
       "quality                 0.217802\n",
       "dtype: float64"
      ]
     },
     "execution_count": 9,
     "metadata": {},
     "output_type": "execute_result"
    }
   ],
   "source": [
    "df.skew()"
   ]
  },
  {
   "cell_type": "code",
   "execution_count": 10,
   "id": "a940f227",
   "metadata": {
    "execution": {
     "iopub.execute_input": "2023-01-20T14:46:02.300664Z",
     "iopub.status.busy": "2023-01-20T14:46:02.299745Z",
     "iopub.status.idle": "2023-01-20T14:46:02.305371Z",
     "shell.execute_reply": "2023-01-20T14:46:02.304393Z"
    },
    "id": "20hfwUjrhDON",
    "papermill": {
     "duration": 0.017492,
     "end_time": "2023-01-20T14:46:02.307644",
     "exception": false,
     "start_time": "2023-01-20T14:46:02.290152",
     "status": "completed"
    },
    "tags": []
   },
   "outputs": [],
   "source": [
    "df.sulphates=np.log(df['sulphates'])"
   ]
  },
  {
   "cell_type": "code",
   "execution_count": 11,
   "id": "59a4843e",
   "metadata": {
    "execution": {
     "iopub.execute_input": "2023-01-20T14:46:02.325968Z",
     "iopub.status.busy": "2023-01-20T14:46:02.325599Z",
     "iopub.status.idle": "2023-01-20T14:46:02.330773Z",
     "shell.execute_reply": "2023-01-20T14:46:02.329963Z"
    },
    "id": "FLy_jKBXsShN",
    "papermill": {
     "duration": 0.016169,
     "end_time": "2023-01-20T14:46:02.332425",
     "exception": false,
     "start_time": "2023-01-20T14:46:02.316256",
     "status": "completed"
    },
    "tags": []
   },
   "outputs": [],
   "source": [
    "df['fixed_acidity']=np.log(df['fixed_acidity'])"
   ]
  },
  {
   "cell_type": "code",
   "execution_count": 12,
   "id": "200975b3",
   "metadata": {
    "execution": {
     "iopub.execute_input": "2023-01-20T14:46:02.351157Z",
     "iopub.status.busy": "2023-01-20T14:46:02.350817Z",
     "iopub.status.idle": "2023-01-20T14:46:02.362007Z",
     "shell.execute_reply": "2023-01-20T14:46:02.360861Z"
    },
    "id": "h1gLwSzMktz1",
    "papermill": {
     "duration": 0.023316,
     "end_time": "2023-01-20T14:46:02.364448",
     "exception": false,
     "start_time": "2023-01-20T14:46:02.341132",
     "status": "completed"
    },
    "tags": []
   },
   "outputs": [
    {
     "data": {
      "text/plain": [
       "0.07"
      ]
     },
     "execution_count": 12,
     "metadata": {},
     "output_type": "execute_result"
    }
   ],
   "source": [
    "iq1=df['chlorides'].quantile(0.25)\n",
    "iq2=df['chlorides'].quantile(0.75)\n",
    "iq1"
   ]
  },
  {
   "cell_type": "code",
   "execution_count": 13,
   "id": "a41a3130",
   "metadata": {
    "execution": {
     "iopub.execute_input": "2023-01-20T14:46:02.382946Z",
     "iopub.status.busy": "2023-01-20T14:46:02.382581Z",
     "iopub.status.idle": "2023-01-20T14:46:02.389219Z",
     "shell.execute_reply": "2023-01-20T14:46:02.387862Z"
    },
    "id": "3jcXVgOqlU7h",
    "papermill": {
     "duration": 0.018846,
     "end_time": "2023-01-20T14:46:02.391765",
     "exception": false,
     "start_time": "2023-01-20T14:46:02.372919",
     "status": "completed"
    },
    "tags": []
   },
   "outputs": [
    {
     "data": {
      "text/plain": [
       "0.09"
      ]
     },
     "execution_count": 13,
     "metadata": {},
     "output_type": "execute_result"
    }
   ],
   "source": [
    "iq2"
   ]
  },
  {
   "cell_type": "code",
   "execution_count": 14,
   "id": "44f0d49c",
   "metadata": {
    "execution": {
     "iopub.execute_input": "2023-01-20T14:46:02.410581Z",
     "iopub.status.busy": "2023-01-20T14:46:02.410179Z",
     "iopub.status.idle": "2023-01-20T14:46:02.416667Z",
     "shell.execute_reply": "2023-01-20T14:46:02.415522Z"
    },
    "id": "f50PMganmrZx",
    "papermill": {
     "duration": 0.018998,
     "end_time": "2023-01-20T14:46:02.419489",
     "exception": false,
     "start_time": "2023-01-20T14:46:02.400491",
     "status": "completed"
    },
    "tags": []
   },
   "outputs": [],
   "source": [
    "df['chlorides']=np.where(df['chlorides']<iq1,iq1,df['chlorides'])\n",
    "df['chlorides']=np.where(df['chlorides']>iq2,iq2,df['chlorides'])"
   ]
  },
  {
   "cell_type": "code",
   "execution_count": 15,
   "id": "a05e977f",
   "metadata": {
    "execution": {
     "iopub.execute_input": "2023-01-20T14:46:02.438471Z",
     "iopub.status.busy": "2023-01-20T14:46:02.438048Z",
     "iopub.status.idle": "2023-01-20T14:46:02.448272Z",
     "shell.execute_reply": "2023-01-20T14:46:02.447364Z"
    },
    "id": "riTgug0EnPHu",
    "papermill": {
     "duration": 0.022094,
     "end_time": "2023-01-20T14:46:02.450285",
     "exception": false,
     "start_time": "2023-01-20T14:46:02.428191",
     "status": "completed"
    },
    "tags": []
   },
   "outputs": [
    {
     "data": {
      "text/plain": [
       "22.0"
      ]
     },
     "execution_count": 15,
     "metadata": {},
     "output_type": "execute_result"
    }
   ],
   "source": [
    "iq1=df['total_sulfur_dioxide'].quantile(0.25)\n",
    "iq2=df['total_sulfur_dioxide'].quantile(0.75)\n",
    "iq1"
   ]
  },
  {
   "cell_type": "code",
   "execution_count": 16,
   "id": "e336c0d4",
   "metadata": {
    "execution": {
     "iopub.execute_input": "2023-01-20T14:46:02.469266Z",
     "iopub.status.busy": "2023-01-20T14:46:02.468922Z",
     "iopub.status.idle": "2023-01-20T14:46:02.476154Z",
     "shell.execute_reply": "2023-01-20T14:46:02.474822Z"
    },
    "id": "Kl24D3jVndf4",
    "papermill": {
     "duration": 0.019201,
     "end_time": "2023-01-20T14:46:02.478306",
     "exception": false,
     "start_time": "2023-01-20T14:46:02.459105",
     "status": "completed"
    },
    "tags": []
   },
   "outputs": [
    {
     "data": {
      "text/plain": [
       "62.0"
      ]
     },
     "execution_count": 16,
     "metadata": {},
     "output_type": "execute_result"
    }
   ],
   "source": [
    "iq2"
   ]
  },
  {
   "cell_type": "code",
   "execution_count": 17,
   "id": "1daf3cb3",
   "metadata": {
    "execution": {
     "iopub.execute_input": "2023-01-20T14:46:02.497477Z",
     "iopub.status.busy": "2023-01-20T14:46:02.497065Z",
     "iopub.status.idle": "2023-01-20T14:46:02.504206Z",
     "shell.execute_reply": "2023-01-20T14:46:02.502791Z"
    },
    "id": "oS03JSw7nfTJ",
    "papermill": {
     "duration": 0.019664,
     "end_time": "2023-01-20T14:46:02.506825",
     "exception": false,
     "start_time": "2023-01-20T14:46:02.487161",
     "status": "completed"
    },
    "tags": []
   },
   "outputs": [],
   "source": [
    "df['total_sulfur_dioxide']=np.where(df['total_sulfur_dioxide']<iq1,iq1,df['total_sulfur_dioxide'])\n",
    "df['total_sulfur_dioxide']=np.where(df['total_sulfur_dioxide']>iq2,iq2,df['total_sulfur_dioxide'])"
   ]
  },
  {
   "cell_type": "code",
   "execution_count": 18,
   "id": "26b3099b",
   "metadata": {
    "execution": {
     "iopub.execute_input": "2023-01-20T14:46:02.526633Z",
     "iopub.status.busy": "2023-01-20T14:46:02.526248Z",
     "iopub.status.idle": "2023-01-20T14:46:02.535943Z",
     "shell.execute_reply": "2023-01-20T14:46:02.535135Z"
    },
    "id": "li-Y1DSuhTDS",
    "papermill": {
     "duration": 0.022543,
     "end_time": "2023-01-20T14:46:02.538208",
     "exception": false,
     "start_time": "2023-01-20T14:46:02.515665",
     "status": "completed"
    },
    "tags": []
   },
   "outputs": [
    {
     "data": {
      "text/plain": [
       "fixed_acidity           0.393915\n",
       "volatile_acidity        0.671593\n",
       "citric_acid             0.318337\n",
       "chlorides               0.081865\n",
       "total_sulfur_dioxide    0.206032\n",
       "density                 0.071288\n",
       "sulphates               0.921867\n",
       "alcohol                 0.860829\n",
       "quality                 0.217802\n",
       "dtype: float64"
      ]
     },
     "execution_count": 18,
     "metadata": {},
     "output_type": "execute_result"
    }
   ],
   "source": [
    "df.skew()"
   ]
  },
  {
   "cell_type": "markdown",
   "id": "e9ae5f12",
   "metadata": {
    "id": "7kw7M_J_oQQC",
    "papermill": {
     "duration": 0.008717,
     "end_time": "2023-01-20T14:46:02.555891",
     "exception": false,
     "start_time": "2023-01-20T14:46:02.547174",
     "status": "completed"
    },
    "tags": []
   },
   "source": [
    "##Creating a Model"
   ]
  },
  {
   "cell_type": "code",
   "execution_count": 19,
   "id": "70ac46a4",
   "metadata": {
    "execution": {
     "iopub.execute_input": "2023-01-20T14:46:02.575785Z",
     "iopub.status.busy": "2023-01-20T14:46:02.575416Z",
     "iopub.status.idle": "2023-01-20T14:46:02.593268Z",
     "shell.execute_reply": "2023-01-20T14:46:02.591990Z"
    },
    "id": "dqOUD6ochs_l",
    "papermill": {
     "duration": 0.030656,
     "end_time": "2023-01-20T14:46:02.595412",
     "exception": false,
     "start_time": "2023-01-20T14:46:02.564756",
     "status": "completed"
    },
    "tags": []
   },
   "outputs": [
    {
     "data": {
      "text/html": [
       "<div>\n",
       "<style scoped>\n",
       "    .dataframe tbody tr th:only-of-type {\n",
       "        vertical-align: middle;\n",
       "    }\n",
       "\n",
       "    .dataframe tbody tr th {\n",
       "        vertical-align: top;\n",
       "    }\n",
       "\n",
       "    .dataframe thead th {\n",
       "        text-align: right;\n",
       "    }\n",
       "</style>\n",
       "<table border=\"1\" class=\"dataframe\">\n",
       "  <thead>\n",
       "    <tr style=\"text-align: right;\">\n",
       "      <th></th>\n",
       "      <th>fixed_acidity</th>\n",
       "      <th>volatile_acidity</th>\n",
       "      <th>citric_acid</th>\n",
       "      <th>chlorides</th>\n",
       "      <th>total_sulfur_dioxide</th>\n",
       "      <th>density</th>\n",
       "      <th>sulphates</th>\n",
       "      <th>alcohol</th>\n",
       "    </tr>\n",
       "  </thead>\n",
       "  <tbody>\n",
       "    <tr>\n",
       "      <th>0</th>\n",
       "      <td>2.001480</td>\n",
       "      <td>0.70</td>\n",
       "      <td>0.00</td>\n",
       "      <td>0.076</td>\n",
       "      <td>34.0</td>\n",
       "      <td>0.9978</td>\n",
       "      <td>-0.579818</td>\n",
       "      <td>9.4</td>\n",
       "    </tr>\n",
       "    <tr>\n",
       "      <th>1</th>\n",
       "      <td>2.054124</td>\n",
       "      <td>0.88</td>\n",
       "      <td>0.00</td>\n",
       "      <td>0.090</td>\n",
       "      <td>62.0</td>\n",
       "      <td>0.9968</td>\n",
       "      <td>-0.385662</td>\n",
       "      <td>9.8</td>\n",
       "    </tr>\n",
       "    <tr>\n",
       "      <th>2</th>\n",
       "      <td>2.054124</td>\n",
       "      <td>0.76</td>\n",
       "      <td>0.04</td>\n",
       "      <td>0.090</td>\n",
       "      <td>54.0</td>\n",
       "      <td>0.9970</td>\n",
       "      <td>-0.430783</td>\n",
       "      <td>9.8</td>\n",
       "    </tr>\n",
       "    <tr>\n",
       "      <th>3</th>\n",
       "      <td>2.415914</td>\n",
       "      <td>0.28</td>\n",
       "      <td>0.56</td>\n",
       "      <td>0.075</td>\n",
       "      <td>60.0</td>\n",
       "      <td>0.9980</td>\n",
       "      <td>-0.544727</td>\n",
       "      <td>9.8</td>\n",
       "    </tr>\n",
       "    <tr>\n",
       "      <th>4</th>\n",
       "      <td>2.001480</td>\n",
       "      <td>0.70</td>\n",
       "      <td>0.00</td>\n",
       "      <td>0.076</td>\n",
       "      <td>34.0</td>\n",
       "      <td>0.9978</td>\n",
       "      <td>-0.579818</td>\n",
       "      <td>9.4</td>\n",
       "    </tr>\n",
       "  </tbody>\n",
       "</table>\n",
       "</div>"
      ],
      "text/plain": [
       "   fixed_acidity  volatile_acidity  citric_acid  chlorides  \\\n",
       "0       2.001480              0.70         0.00      0.076   \n",
       "1       2.054124              0.88         0.00      0.090   \n",
       "2       2.054124              0.76         0.04      0.090   \n",
       "3       2.415914              0.28         0.56      0.075   \n",
       "4       2.001480              0.70         0.00      0.076   \n",
       "\n",
       "   total_sulfur_dioxide  density  sulphates  alcohol  \n",
       "0                  34.0   0.9978  -0.579818      9.4  \n",
       "1                  62.0   0.9968  -0.385662      9.8  \n",
       "2                  54.0   0.9970  -0.430783      9.8  \n",
       "3                  60.0   0.9980  -0.544727      9.8  \n",
       "4                  34.0   0.9978  -0.579818      9.4  "
      ]
     },
     "execution_count": 19,
     "metadata": {},
     "output_type": "execute_result"
    }
   ],
   "source": [
    "x=df.iloc[:,0:8]\n",
    "y=df.iloc[:,8]\n",
    "x.head()"
   ]
  },
  {
   "cell_type": "code",
   "execution_count": 20,
   "id": "078466f6",
   "metadata": {
    "execution": {
     "iopub.execute_input": "2023-01-20T14:46:02.615242Z",
     "iopub.status.busy": "2023-01-20T14:46:02.614885Z",
     "iopub.status.idle": "2023-01-20T14:46:02.623178Z",
     "shell.execute_reply": "2023-01-20T14:46:02.622278Z"
    },
    "id": "kV15PkVYqrzq",
    "papermill": {
     "duration": 0.0204,
     "end_time": "2023-01-20T14:46:02.625016",
     "exception": false,
     "start_time": "2023-01-20T14:46:02.604616",
     "status": "completed"
    },
    "tags": []
   },
   "outputs": [
    {
     "data": {
      "text/plain": [
       "0       5\n",
       "1       5\n",
       "2       5\n",
       "3       6\n",
       "4       5\n",
       "       ..\n",
       "1594    5\n",
       "1595    6\n",
       "1596    6\n",
       "1597    5\n",
       "1598    6\n",
       "Name: quality, Length: 1599, dtype: int64"
      ]
     },
     "execution_count": 20,
     "metadata": {},
     "output_type": "execute_result"
    }
   ],
   "source": [
    "y"
   ]
  },
  {
   "cell_type": "markdown",
   "id": "07dc067e",
   "metadata": {
    "id": "DNeOjUiIrjHG",
    "papermill": {
     "duration": 0.00961,
     "end_time": "2023-01-20T14:46:02.644289",
     "exception": false,
     "start_time": "2023-01-20T14:46:02.634679",
     "status": "completed"
    },
    "tags": []
   },
   "source": [
    "###Training a model"
   ]
  },
  {
   "cell_type": "code",
   "execution_count": 21,
   "id": "7f9fc0ac",
   "metadata": {
    "execution": {
     "iopub.execute_input": "2023-01-20T14:46:02.664589Z",
     "iopub.status.busy": "2023-01-20T14:46:02.664182Z",
     "iopub.status.idle": "2023-01-20T14:46:03.855928Z",
     "shell.execute_reply": "2023-01-20T14:46:03.854699Z"
    },
    "id": "5JB222eQrd_y",
    "papermill": {
     "duration": 1.205109,
     "end_time": "2023-01-20T14:46:03.858630",
     "exception": false,
     "start_time": "2023-01-20T14:46:02.653521",
     "status": "completed"
    },
    "tags": []
   },
   "outputs": [],
   "source": [
    "from sklearn.model_selection import train_test_split\n",
    "x_train,x_test,y_train,y_test=train_test_split(x,y,train_size=0.95,random_state=1)"
   ]
  },
  {
   "cell_type": "code",
   "execution_count": 22,
   "id": "662374e6",
   "metadata": {
    "execution": {
     "iopub.execute_input": "2023-01-20T14:46:03.879501Z",
     "iopub.status.busy": "2023-01-20T14:46:03.879120Z",
     "iopub.status.idle": "2023-01-20T14:46:03.885009Z",
     "shell.execute_reply": "2023-01-20T14:46:03.883616Z"
    },
    "id": "d0JOJgBYrlp6",
    "papermill": {
     "duration": 0.019352,
     "end_time": "2023-01-20T14:46:03.887455",
     "exception": false,
     "start_time": "2023-01-20T14:46:03.868103",
     "status": "completed"
    },
    "tags": []
   },
   "outputs": [
    {
     "name": "stdout",
     "output_type": "stream",
     "text": [
      "Training data (1519, 8)\n"
     ]
    }
   ],
   "source": [
    "print(\"Training data\",x_train.shape)"
   ]
  },
  {
   "cell_type": "code",
   "execution_count": 23,
   "id": "2fa761dd",
   "metadata": {
    "execution": {
     "iopub.execute_input": "2023-01-20T14:46:03.908320Z",
     "iopub.status.busy": "2023-01-20T14:46:03.907955Z",
     "iopub.status.idle": "2023-01-20T14:46:03.914185Z",
     "shell.execute_reply": "2023-01-20T14:46:03.912659Z"
    },
    "id": "Xv9vd_XvroUy",
    "papermill": {
     "duration": 0.019519,
     "end_time": "2023-01-20T14:46:03.916602",
     "exception": false,
     "start_time": "2023-01-20T14:46:03.897083",
     "status": "completed"
    },
    "tags": []
   },
   "outputs": [
    {
     "name": "stdout",
     "output_type": "stream",
     "text": [
      "Training data (80, 8)\n"
     ]
    }
   ],
   "source": [
    "print(\"Training data\",x_test.shape)"
   ]
  },
  {
   "cell_type": "code",
   "execution_count": 24,
   "id": "3ee1290e",
   "metadata": {
    "execution": {
     "iopub.execute_input": "2023-01-20T14:46:03.938804Z",
     "iopub.status.busy": "2023-01-20T14:46:03.937496Z",
     "iopub.status.idle": "2023-01-20T14:46:04.189828Z",
     "shell.execute_reply": "2023-01-20T14:46:04.188763Z"
    },
    "id": "rfRBfOWCsBFW",
    "papermill": {
     "duration": 0.265648,
     "end_time": "2023-01-20T14:46:04.192394",
     "exception": false,
     "start_time": "2023-01-20T14:46:03.926746",
     "status": "completed"
    },
    "tags": []
   },
   "outputs": [],
   "source": [
    "from sklearn.ensemble import RandomForestClassifier"
   ]
  },
  {
   "cell_type": "code",
   "execution_count": 25,
   "id": "cc313348",
   "metadata": {
    "execution": {
     "iopub.execute_input": "2023-01-20T14:46:04.213662Z",
     "iopub.status.busy": "2023-01-20T14:46:04.213096Z",
     "iopub.status.idle": "2023-01-20T14:46:04.380401Z",
     "shell.execute_reply": "2023-01-20T14:46:04.379397Z"
    },
    "id": "TEuQdMpjxxwT",
    "papermill": {
     "duration": 0.180677,
     "end_time": "2023-01-20T14:46:04.382774",
     "exception": false,
     "start_time": "2023-01-20T14:46:04.202097",
     "status": "completed"
    },
    "tags": []
   },
   "outputs": [
    {
     "data": {
      "text/plain": [
       "RandomForestClassifier(max_depth=3, random_state=0)"
      ]
     },
     "execution_count": 25,
     "metadata": {},
     "output_type": "execute_result"
    }
   ],
   "source": [
    "classifier=RandomForestClassifier(random_state=0,max_depth=3)\n",
    "classifier.fit(x_train,y_train)"
   ]
  },
  {
   "cell_type": "code",
   "execution_count": 26,
   "id": "f78907a9",
   "metadata": {
    "execution": {
     "iopub.execute_input": "2023-01-20T14:46:04.405235Z",
     "iopub.status.busy": "2023-01-20T14:46:04.404566Z",
     "iopub.status.idle": "2023-01-20T14:46:04.424602Z",
     "shell.execute_reply": "2023-01-20T14:46:04.422653Z"
    },
    "id": "G-yyi0Aau3JK",
    "papermill": {
     "duration": 0.034531,
     "end_time": "2023-01-20T14:46:04.427395",
     "exception": false,
     "start_time": "2023-01-20T14:46:04.392864",
     "status": "completed"
    },
    "tags": []
   },
   "outputs": [],
   "source": [
    "y_pred=classifier.predict(x_test)"
   ]
  },
  {
   "cell_type": "code",
   "execution_count": 27,
   "id": "b4304173",
   "metadata": {
    "execution": {
     "iopub.execute_input": "2023-01-20T14:46:04.447999Z",
     "iopub.status.busy": "2023-01-20T14:46:04.447606Z",
     "iopub.status.idle": "2023-01-20T14:46:04.452841Z",
     "shell.execute_reply": "2023-01-20T14:46:04.451455Z"
    },
    "id": "npTkpqQiw3kr",
    "papermill": {
     "duration": 0.018322,
     "end_time": "2023-01-20T14:46:04.455293",
     "exception": false,
     "start_time": "2023-01-20T14:46:04.436971",
     "status": "completed"
    },
    "tags": []
   },
   "outputs": [],
   "source": [
    "from sklearn.metrics import accuracy_score"
   ]
  },
  {
   "cell_type": "code",
   "execution_count": 28,
   "id": "4e6ff614",
   "metadata": {
    "execution": {
     "iopub.execute_input": "2023-01-20T14:46:04.476575Z",
     "iopub.status.busy": "2023-01-20T14:46:04.475996Z",
     "iopub.status.idle": "2023-01-20T14:46:04.481364Z",
     "shell.execute_reply": "2023-01-20T14:46:04.480652Z"
    },
    "id": "ZJ45VXZz_zlp",
    "papermill": {
     "duration": 0.018193,
     "end_time": "2023-01-20T14:46:04.483098",
     "exception": false,
     "start_time": "2023-01-20T14:46:04.464905",
     "status": "completed"
    },
    "tags": []
   },
   "outputs": [
    {
     "data": {
      "text/plain": [
       "0.7375"
      ]
     },
     "execution_count": 28,
     "metadata": {},
     "output_type": "execute_result"
    }
   ],
   "source": [
    "accuracy_score(y_test,y_pred)"
   ]
  },
  {
   "cell_type": "code",
   "execution_count": 29,
   "id": "99dcdc37",
   "metadata": {
    "execution": {
     "iopub.execute_input": "2023-01-20T14:46:04.505426Z",
     "iopub.status.busy": "2023-01-20T14:46:04.504381Z",
     "iopub.status.idle": "2023-01-20T14:46:04.512759Z",
     "shell.execute_reply": "2023-01-20T14:46:04.511219Z"
    },
    "id": "TPEuPsoji7W4",
    "papermill": {
     "duration": 0.022683,
     "end_time": "2023-01-20T14:46:04.515495",
     "exception": false,
     "start_time": "2023-01-20T14:46:04.492812",
     "status": "completed"
    },
    "tags": []
   },
   "outputs": [],
   "source": [
    "from sklearn.naive_bayes import GaussianNB\n",
    "model = GaussianNB()"
   ]
  },
  {
   "cell_type": "code",
   "execution_count": 30,
   "id": "6c8ab519",
   "metadata": {
    "execution": {
     "iopub.execute_input": "2023-01-20T14:46:04.536588Z",
     "iopub.status.busy": "2023-01-20T14:46:04.536198Z",
     "iopub.status.idle": "2023-01-20T14:46:04.548702Z",
     "shell.execute_reply": "2023-01-20T14:46:04.547536Z"
    },
    "id": "u1q6OLbUi66g",
    "papermill": {
     "duration": 0.025516,
     "end_time": "2023-01-20T14:46:04.550695",
     "exception": false,
     "start_time": "2023-01-20T14:46:04.525179",
     "status": "completed"
    },
    "tags": []
   },
   "outputs": [
    {
     "data": {
      "text/plain": [
       "GaussianNB()"
      ]
     },
     "execution_count": 30,
     "metadata": {},
     "output_type": "execute_result"
    }
   ],
   "source": [
    "model.fit(x_train,y_train)"
   ]
  },
  {
   "cell_type": "code",
   "execution_count": 31,
   "id": "164ea549",
   "metadata": {
    "execution": {
     "iopub.execute_input": "2023-01-20T14:46:04.571476Z",
     "iopub.status.busy": "2023-01-20T14:46:04.571087Z",
     "iopub.status.idle": "2023-01-20T14:46:04.578565Z",
     "shell.execute_reply": "2023-01-20T14:46:04.577042Z"
    },
    "id": "Bsfy7iiWjPqZ",
    "papermill": {
     "duration": 0.020915,
     "end_time": "2023-01-20T14:46:04.581195",
     "exception": false,
     "start_time": "2023-01-20T14:46:04.560280",
     "status": "completed"
    },
    "tags": []
   },
   "outputs": [],
   "source": [
    "y_prediction=model.predict(x_test)"
   ]
  },
  {
   "cell_type": "code",
   "execution_count": 32,
   "id": "0fb88290",
   "metadata": {
    "execution": {
     "iopub.execute_input": "2023-01-20T14:46:04.602839Z",
     "iopub.status.busy": "2023-01-20T14:46:04.602478Z",
     "iopub.status.idle": "2023-01-20T14:46:04.610133Z",
     "shell.execute_reply": "2023-01-20T14:46:04.608848Z"
    },
    "id": "ucb9FSY5jUzQ",
    "papermill": {
     "duration": 0.021063,
     "end_time": "2023-01-20T14:46:04.612238",
     "exception": false,
     "start_time": "2023-01-20T14:46:04.591175",
     "status": "completed"
    },
    "tags": []
   },
   "outputs": [
    {
     "data": {
      "text/plain": [
       "0.575"
      ]
     },
     "execution_count": 32,
     "metadata": {},
     "output_type": "execute_result"
    }
   ],
   "source": [
    "accuracy_score(y_test,y_prediction)"
   ]
  }
 ],
 "metadata": {
  "kernelspec": {
   "display_name": "Python 3",
   "language": "python",
   "name": "python3"
  },
  "language_info": {
   "codemirror_mode": {
    "name": "ipython",
    "version": 3
   },
   "file_extension": ".py",
   "mimetype": "text/x-python",
   "name": "python",
   "nbconvert_exporter": "python",
   "pygments_lexer": "ipython3",
   "version": "3.7.12"
  },
  "papermill": {
   "default_parameters": {},
   "duration": 11.664615,
   "end_time": "2023-01-20T14:46:05.343419",
   "environment_variables": {},
   "exception": null,
   "input_path": "__notebook__.ipynb",
   "output_path": "__notebook__.ipynb",
   "parameters": {},
   "start_time": "2023-01-20T14:45:53.678804",
   "version": "2.3.4"
  }
 },
 "nbformat": 4,
 "nbformat_minor": 5
}
